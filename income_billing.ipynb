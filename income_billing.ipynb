{
 "cells": [
  {
   "cell_type": "code",
   "execution_count": 33,
   "metadata": {},
   "outputs": [],
   "source": [
    "import pandas as pd\n",
    "import numpy as np"
   ]
  },
  {
   "cell_type": "markdown",
   "metadata": {},
   "source": [
    "### Load Files & Create DF"
   ]
  },
  {
   "cell_type": "code",
   "execution_count": 34,
   "metadata": {},
   "outputs": [],
   "source": [
    "brands_file = 'data/brand_lines.xlsx'\n",
    "market_system_file = 'data/market_system.xlsx'\n",
    "market_trip_file = 'data/market_trip.xlsx'\n",
    "raw_data_file = 'data/raw_data.xlsx'\n",
    "brands_df = pd.read_excel(brands_file)\n",
    "market_system_df = pd.read_excel(market_system_file)\n",
    "market_trip_df = pd.read_excel(market_trip_file)\n",
    "raw_data_df = pd.read_excel(raw_data_file)"
   ]
  },
  {
   "cell_type": "markdown",
   "metadata": {},
   "source": [
    "# Brands"
   ]
  },
  {
   "cell_type": "markdown",
   "metadata": {},
   "source": [
    "### Remove Unnamed Columns"
   ]
  },
  {
   "cell_type": "code",
   "execution_count": 35,
   "metadata": {},
   "outputs": [],
   "source": [
    "for col in brands_df.columns:\n",
    "    if 'Unnamed' in col:\n",
    "        del brands_df[col]"
   ]
  },
  {
   "cell_type": "markdown",
   "metadata": {},
   "source": [
    "### Melt Columns"
   ]
  },
  {
   "cell_type": "code",
   "execution_count": 36,
   "metadata": {},
   "outputs": [],
   "source": [
    "brands_df = pd.melt(brands_df)\n",
    "brands_group = brands_df.groupby(['variable', 'value']).count().reset_index()"
   ]
  },
  {
   "cell_type": "code",
   "execution_count": 37,
   "metadata": {},
   "outputs": [],
   "source": [
    "brands_group = brands_group[brands_group['value'] != 'Total Lines']"
   ]
  },
  {
   "cell_type": "code",
   "execution_count": 38,
   "metadata": {},
   "outputs": [
    {
     "data": {
      "text/html": [
       "<div>\n",
       "<style scoped>\n",
       "    .dataframe tbody tr th:only-of-type {\n",
       "        vertical-align: middle;\n",
       "    }\n",
       "\n",
       "    .dataframe tbody tr th {\n",
       "        vertical-align: top;\n",
       "    }\n",
       "\n",
       "    .dataframe thead th {\n",
       "        text-align: right;\n",
       "    }\n",
       "</style>\n",
       "<table border=\"1\" class=\"dataframe\">\n",
       "  <thead>\n",
       "    <tr style=\"text-align: right;\">\n",
       "      <th></th>\n",
       "      <th>variable</th>\n",
       "      <th>value</th>\n",
       "    </tr>\n",
       "  </thead>\n",
       "  <tbody>\n",
       "    <tr>\n",
       "      <th>0</th>\n",
       "      <td>58 Degrees &amp; Holding</td>\n",
       "      <td>Big Stump Brew Co Lions Crown</td>\n",
       "    </tr>\n",
       "    <tr>\n",
       "      <th>1</th>\n",
       "      <td>58 Degrees &amp; Holding</td>\n",
       "      <td>Big Stump Brewing Rowan's Red Ale</td>\n",
       "    </tr>\n",
       "    <tr>\n",
       "      <th>2</th>\n",
       "      <td>58 Degrees &amp; Holding</td>\n",
       "      <td>Matua Sauvignon Blanc</td>\n",
       "    </tr>\n",
       "    <tr>\n",
       "      <th>3</th>\n",
       "      <td>58 Degrees &amp; Holding</td>\n",
       "      <td>Powder Keg Cabernet Sauvignon</td>\n",
       "    </tr>\n",
       "    <tr>\n",
       "      <th>5</th>\n",
       "      <td>58 Degrees &amp; Holding</td>\n",
       "      <td>Two Rivers Ginger Cider</td>\n",
       "    </tr>\n",
       "  </tbody>\n",
       "</table>\n",
       "</div>"
      ],
      "text/plain": [
       "               variable                              value\n",
       "0  58 Degrees & Holding      Big Stump Brew Co Lions Crown\n",
       "1  58 Degrees & Holding  Big Stump Brewing Rowan's Red Ale\n",
       "2  58 Degrees & Holding              Matua Sauvignon Blanc\n",
       "3  58 Degrees & Holding      Powder Keg Cabernet Sauvignon\n",
       "5  58 Degrees & Holding            Two Rivers Ginger Cider"
      ]
     },
     "execution_count": 38,
     "metadata": {},
     "output_type": "execute_result"
    }
   ],
   "source": [
    "brands_group.head()"
   ]
  },
  {
   "cell_type": "markdown",
   "metadata": {},
   "source": [
    "# Market System Builder"
   ]
  },
  {
   "cell_type": "markdown",
   "metadata": {},
   "source": [
    "Market System Builder Represents what's currently in the market. It needs to be audited before billing the distributors.\n",
    "Historical reports (brands by distributor, raw data reports, and market trip reports) are compared against the a market system builder to find red flags."
   ]
  },
  {
   "cell_type": "code",
   "execution_count": 39,
   "metadata": {},
   "outputs": [
    {
     "data": {
      "text/html": [
       "<div>\n",
       "<style scoped>\n",
       "    .dataframe tbody tr th:only-of-type {\n",
       "        vertical-align: middle;\n",
       "    }\n",
       "\n",
       "    .dataframe tbody tr th {\n",
       "        vertical-align: top;\n",
       "    }\n",
       "\n",
       "    .dataframe thead th {\n",
       "        text-align: right;\n",
       "    }\n",
       "</style>\n",
       "<table border=\"1\" class=\"dataframe\">\n",
       "  <thead>\n",
       "    <tr style=\"text-align: right;\">\n",
       "      <th></th>\n",
       "      <th>distributor</th>\n",
       "      <th>serviceable</th>\n",
       "      <th>distactive</th>\n",
       "      <th>locid</th>\n",
       "      <th>city</th>\n",
       "      <th>address1</th>\n",
       "      <th>zip</th>\n",
       "      <th>tapname</th>\n",
       "      <th>bid</th>\n",
       "      <th>zonevalue</th>\n",
       "      <th>area</th>\n",
       "      <th>did</th>\n",
       "      <th>client</th>\n",
       "      <th>clientNumber</th>\n",
       "      <th>recurDescription</th>\n",
       "      <th>quantity</th>\n",
       "    </tr>\n",
       "  </thead>\n",
       "  <tbody>\n",
       "    <tr>\n",
       "      <th>0</th>\n",
       "      <td>58 Degrees &amp; Holding</td>\n",
       "      <td>True</td>\n",
       "      <td>True</td>\n",
       "      <td>1027267</td>\n",
       "      <td>Sacramento</td>\n",
       "      <td>1217 18th Street</td>\n",
       "      <td>95811</td>\n",
       "      <td>Amador Brewing Ipa</td>\n",
       "      <td>1037280</td>\n",
       "      <td>CA05</td>\n",
       "      <td>NaN</td>\n",
       "      <td>1002166</td>\n",
       "      <td>58 Degrees &amp; Holding Co. (Sacramento/18th)</td>\n",
       "      <td>NaN</td>\n",
       "      <td>Clean and bill all IND lines to acct\\nback doo...</td>\n",
       "      <td>1</td>\n",
       "    </tr>\n",
       "    <tr>\n",
       "      <th>1</th>\n",
       "      <td>58 Degrees &amp; Holding</td>\n",
       "      <td>True</td>\n",
       "      <td>True</td>\n",
       "      <td>1027267</td>\n",
       "      <td>Sacramento</td>\n",
       "      <td>1217 18th Street</td>\n",
       "      <td>95811</td>\n",
       "      <td>Amador Brewing Kolsch</td>\n",
       "      <td>1057032</td>\n",
       "      <td>CA05</td>\n",
       "      <td>NaN</td>\n",
       "      <td>1002166</td>\n",
       "      <td>58 Degrees &amp; Holding Co. (Sacramento/18th)</td>\n",
       "      <td>NaN</td>\n",
       "      <td>Clean and bill all IND lines to acct\\nback doo...</td>\n",
       "      <td>1</td>\n",
       "    </tr>\n",
       "    <tr>\n",
       "      <th>2</th>\n",
       "      <td>58 Degrees &amp; Holding</td>\n",
       "      <td>True</td>\n",
       "      <td>True</td>\n",
       "      <td>1027267</td>\n",
       "      <td>Sacramento</td>\n",
       "      <td>1217 18th Street</td>\n",
       "      <td>95811</td>\n",
       "      <td>Big Stump Brewing Rowan's Red Ale</td>\n",
       "      <td>1209098</td>\n",
       "      <td>CA05</td>\n",
       "      <td>NaN</td>\n",
       "      <td>1002166</td>\n",
       "      <td>58 Degrees &amp; Holding Co. (Sacramento/18th)</td>\n",
       "      <td>NaN</td>\n",
       "      <td>Clean and bill all IND lines to acct\\nback doo...</td>\n",
       "      <td>1</td>\n",
       "    </tr>\n",
       "    <tr>\n",
       "      <th>3</th>\n",
       "      <td>58 Degrees &amp; Holding</td>\n",
       "      <td>True</td>\n",
       "      <td>True</td>\n",
       "      <td>1027267</td>\n",
       "      <td>Sacramento</td>\n",
       "      <td>1217 18th Street</td>\n",
       "      <td>95811</td>\n",
       "      <td>Fort Rock Foggy Goggles</td>\n",
       "      <td>1092374</td>\n",
       "      <td>CA05</td>\n",
       "      <td>NaN</td>\n",
       "      <td>1002166</td>\n",
       "      <td>58 Degrees &amp; Holding Co. (Sacramento/18th)</td>\n",
       "      <td>NaN</td>\n",
       "      <td>Clean and bill all IND lines to acct\\nback doo...</td>\n",
       "      <td>1</td>\n",
       "    </tr>\n",
       "    <tr>\n",
       "      <th>4</th>\n",
       "      <td>58 Degrees &amp; Holding</td>\n",
       "      <td>True</td>\n",
       "      <td>True</td>\n",
       "      <td>1027267</td>\n",
       "      <td>Sacramento</td>\n",
       "      <td>1217 18th Street</td>\n",
       "      <td>95811</td>\n",
       "      <td>Matua Sauvignon Blanc</td>\n",
       "      <td>1153068</td>\n",
       "      <td>CA05</td>\n",
       "      <td>NaN</td>\n",
       "      <td>1002166</td>\n",
       "      <td>58 Degrees &amp; Holding Co. (Sacramento/18th)</td>\n",
       "      <td>NaN</td>\n",
       "      <td>Clean and bill all IND lines to acct\\nback doo...</td>\n",
       "      <td>1</td>\n",
       "    </tr>\n",
       "  </tbody>\n",
       "</table>\n",
       "</div>"
      ],
      "text/plain": [
       "            distributor  serviceable  distactive    locid        city  \\\n",
       "0  58 Degrees & Holding         True        True  1027267  Sacramento   \n",
       "1  58 Degrees & Holding         True        True  1027267  Sacramento   \n",
       "2  58 Degrees & Holding         True        True  1027267  Sacramento   \n",
       "3  58 Degrees & Holding         True        True  1027267  Sacramento   \n",
       "4  58 Degrees & Holding         True        True  1027267  Sacramento   \n",
       "\n",
       "           address1    zip                            tapname      bid  \\\n",
       "0  1217 18th Street  95811                 Amador Brewing Ipa  1037280   \n",
       "1  1217 18th Street  95811              Amador Brewing Kolsch  1057032   \n",
       "2  1217 18th Street  95811  Big Stump Brewing Rowan's Red Ale  1209098   \n",
       "3  1217 18th Street  95811            Fort Rock Foggy Goggles  1092374   \n",
       "4  1217 18th Street  95811              Matua Sauvignon Blanc  1153068   \n",
       "\n",
       "  zonevalue  area      did                                      client  \\\n",
       "0      CA05   NaN  1002166  58 Degrees & Holding Co. (Sacramento/18th)   \n",
       "1      CA05   NaN  1002166  58 Degrees & Holding Co. (Sacramento/18th)   \n",
       "2      CA05   NaN  1002166  58 Degrees & Holding Co. (Sacramento/18th)   \n",
       "3      CA05   NaN  1002166  58 Degrees & Holding Co. (Sacramento/18th)   \n",
       "4      CA05   NaN  1002166  58 Degrees & Holding Co. (Sacramento/18th)   \n",
       "\n",
       "   clientNumber                                   recurDescription  quantity  \n",
       "0           NaN  Clean and bill all IND lines to acct\\nback doo...         1  \n",
       "1           NaN  Clean and bill all IND lines to acct\\nback doo...         1  \n",
       "2           NaN  Clean and bill all IND lines to acct\\nback doo...         1  \n",
       "3           NaN  Clean and bill all IND lines to acct\\nback doo...         1  \n",
       "4           NaN  Clean and bill all IND lines to acct\\nback doo...         1  "
      ]
     },
     "execution_count": 39,
     "metadata": {},
     "output_type": "execute_result"
    }
   ],
   "source": [
    "market_system_df.head()"
   ]
  },
  {
   "cell_type": "markdown",
   "metadata": {},
   "source": [
    "# FLAGS 1 & 2\n",
    "\n",
    "### Check if Tap is Associated with Distributor\n",
    "\n",
    "* Throw flag if the tap is not associated with distributor in Brand Lines by Dist Report\n",
    "* If tap is not associated with distributor, check if the brewery is associated with distributor\n",
    "\n",
    "\n",
    "Checking if the tap's brewery is associated with the distributor eliminates hundreds of taps from a manual audit. We assume that if the distributor is associated with other taps from that brewery, it should also be associated with the new tap."
   ]
  },
  {
   "cell_type": "code",
   "execution_count": 40,
   "metadata": {},
   "outputs": [],
   "source": [
    "\n",
    "## Iterrate through every row of market_system\n",
    "for index, row in market_system_df.iterrows():\n",
    "    \n",
    "    tap = row['tapname']\n",
    "    dist = row['distributor']\n",
    "    \n",
    "    ## Create Data Frames for market system, brands, and raw data that only include the row's distributor\n",
    "    market_system_audit = market_system_df[market_system_df['distributor'] == dist]\n",
    "    brand_audit = brands_group[brands_group['variable'] == dist]\n",
    "    brewery_audit = raw_data_df[raw_data_df['Distributor'] == dist]\n",
    "    \n",
    "    ## List of unique taps that have historically been associated with distributor\n",
    "    brand_taps = brand_audit['value'].unique()\n",
    "    \n",
    "    ## List of unique breweries that have historically been associated with the distributor\n",
    "    breweries = brewery_audit['BreweryName'].unique()\n",
    "    \n",
    "    ## Empty list that will store a certain portion of a breweries name.\n",
    "    ## Used to check if the tap has a breweries name in it.\n",
    "    brewery_names = []\n",
    "    \n",
    "    ## 1. Loop through breweries associated with distributor\n",
    "    ## 2. Grab the first word in the brewery's name and add it to the brewery_names list\n",
    "    for brewery in breweries:\n",
    "        if not isinstance(brewery, float):\n",
    "            name = brewery.split()\n",
    "        \n",
    "            if len(name[0]) > 3:\n",
    "                brewery_names.append(name[0])\n",
    "                \n",
    "    ## 1. Check if the current row tap is associated with the distributor\n",
    "    ## 2. If it's not, flag the row\n",
    "    \n",
    "    if tap not in brand_taps:\n",
    "        market_system_df.loc[index, 'dist_tap_audit'] = 'x'\n",
    "        \n",
    "    ## 3. If the tap is flagged, check to see if the brewery name appears in the tap's name.\n",
    "    ## 4. If it does, flag the row\n",
    "       \n",
    "        if any(x in tap for x in brewery_names):\n",
    "            market_system_df.loc[index, 'brewery_dist_audit'] = 'x'\n",
    "            \n",
    "    ## THE SECOND FLAG IS A GOOD FLAG\n",
    "    ## It means that the brewery is associated with the distributor, and we probably bill for it.\n",
    "    ## Any flags in the 'dist_tap_audit' column that do not have 'brewery_dist_audit' flagged as well, \n",
    "    ### will need to be manually audited\n",
    "    \n",
    "        "
   ]
  },
  {
   "cell_type": "markdown",
   "metadata": {},
   "source": [
    "#### brewery_name\n",
    "\n",
    "The brewery_names list only stores the first part of the breweries name as long as the length of that string is greater than 3.\n"
   ]
  },
  {
   "cell_type": "code",
   "execution_count": 41,
   "metadata": {},
   "outputs": [
    {
     "data": {
      "text/plain": [
       "['Camelot', 'Line', 'Angeline', 'Craft', 'Girls']"
      ]
     },
     "execution_count": 41,
     "metadata": {},
     "output_type": "execute_result"
    }
   ],
   "source": [
    "brewery_names"
   ]
  },
  {
   "cell_type": "markdown",
   "metadata": {},
   "source": [
    "## Tap Audit Results"
   ]
  },
  {
   "cell_type": "code",
   "execution_count": 42,
   "metadata": {},
   "outputs": [
    {
     "name": "stdout",
     "output_type": "stream",
     "text": [
      "<class 'pandas.core.frame.DataFrame'>\n",
      "RangeIndex: 19145 entries, 0 to 19144\n",
      "Data columns (total 2 columns):\n",
      "dist_tap_audit        562 non-null object\n",
      "brewery_dist_audit    353 non-null object\n",
      "dtypes: object(2)\n",
      "memory usage: 299.2+ KB\n"
     ]
    }
   ],
   "source": [
    "market_system_df[['dist_tap_audit','brewery_dist_audit']].info()"
   ]
  },
  {
   "cell_type": "code",
   "execution_count": 43,
   "metadata": {},
   "outputs": [
    {
     "data": {
      "text/html": [
       "<div>\n",
       "<style scoped>\n",
       "    .dataframe tbody tr th:only-of-type {\n",
       "        vertical-align: middle;\n",
       "    }\n",
       "\n",
       "    .dataframe tbody tr th {\n",
       "        vertical-align: top;\n",
       "    }\n",
       "\n",
       "    .dataframe thead th {\n",
       "        text-align: right;\n",
       "    }\n",
       "</style>\n",
       "<table border=\"1\" class=\"dataframe\">\n",
       "  <thead>\n",
       "    <tr style=\"text-align: right;\">\n",
       "      <th></th>\n",
       "      <th>distributor</th>\n",
       "      <th>client</th>\n",
       "      <th>tapname</th>\n",
       "      <th>dist_tap_audit</th>\n",
       "      <th>brewery_dist_audit</th>\n",
       "    </tr>\n",
       "  </thead>\n",
       "  <tbody>\n",
       "    <tr>\n",
       "      <th>0</th>\n",
       "      <td>58 Degrees &amp; Holding</td>\n",
       "      <td>58 Degrees &amp; Holding Co. (Sacramento/18th)</td>\n",
       "      <td>Amador Brewing Ipa</td>\n",
       "      <td>x</td>\n",
       "      <td>NaN</td>\n",
       "    </tr>\n",
       "    <tr>\n",
       "      <th>1</th>\n",
       "      <td>58 Degrees &amp; Holding</td>\n",
       "      <td>58 Degrees &amp; Holding Co. (Sacramento/18th)</td>\n",
       "      <td>Amador Brewing Kolsch</td>\n",
       "      <td>x</td>\n",
       "      <td>NaN</td>\n",
       "    </tr>\n",
       "    <tr>\n",
       "      <th>3</th>\n",
       "      <td>58 Degrees &amp; Holding</td>\n",
       "      <td>58 Degrees &amp; Holding Co. (Sacramento/18th)</td>\n",
       "      <td>Fort Rock Foggy Goggles</td>\n",
       "      <td>x</td>\n",
       "      <td>NaN</td>\n",
       "    </tr>\n",
       "    <tr>\n",
       "      <th>19</th>\n",
       "      <td>ALTAMONT BEER WORKS</td>\n",
       "      <td>2M - Aptos St BBQ (Aptos/Aptos)</td>\n",
       "      <td>Altamont Beer Works Vasco Juice</td>\n",
       "      <td>x</td>\n",
       "      <td>x</td>\n",
       "    </tr>\n",
       "    <tr>\n",
       "      <th>124</th>\n",
       "      <td>ALTAMONT BEER WORKS</td>\n",
       "      <td>Catos Ale House (Oakland/Piedmont)</td>\n",
       "      <td>Altamont Beer Works L Town</td>\n",
       "      <td>x</td>\n",
       "      <td>x</td>\n",
       "    </tr>\n",
       "  </tbody>\n",
       "</table>\n",
       "</div>"
      ],
      "text/plain": [
       "              distributor                                      client  \\\n",
       "0    58 Degrees & Holding  58 Degrees & Holding Co. (Sacramento/18th)   \n",
       "1    58 Degrees & Holding  58 Degrees & Holding Co. (Sacramento/18th)   \n",
       "3    58 Degrees & Holding  58 Degrees & Holding Co. (Sacramento/18th)   \n",
       "19    ALTAMONT BEER WORKS             2M - Aptos St BBQ (Aptos/Aptos)   \n",
       "124   ALTAMONT BEER WORKS          Catos Ale House (Oakland/Piedmont)   \n",
       "\n",
       "                             tapname dist_tap_audit brewery_dist_audit  \n",
       "0                 Amador Brewing Ipa              x                NaN  \n",
       "1              Amador Brewing Kolsch              x                NaN  \n",
       "3            Fort Rock Foggy Goggles              x                NaN  \n",
       "19   Altamont Beer Works Vasco Juice              x                  x  \n",
       "124       Altamont Beer Works L Town              x                  x  "
      ]
     },
     "execution_count": 43,
     "metadata": {},
     "output_type": "execute_result"
    }
   ],
   "source": [
    "tap_audit = market_system_df[['distributor', 'client', 'tapname', 'dist_tap_audit', 'brewery_dist_audit']]\n",
    "tap_audit = tap_audit[(tap_audit['dist_tap_audit'] == 'x') | (tap_audit['brewery_dist_audit'] == 'x')]\n",
    "tap_audit.head()"
   ]
  },
  {
   "cell_type": "markdown",
   "metadata": {},
   "source": [
    "#### Total Taps to Audit:"
   ]
  },
  {
   "cell_type": "code",
   "execution_count": 44,
   "metadata": {},
   "outputs": [
    {
     "name": "stdout",
     "output_type": "stream",
     "text": [
      "209 total taps to audit.\n"
     ]
    }
   ],
   "source": [
    "total_tap_audit = tap_audit[tap_audit['brewery_dist_audit'] != 'x'].count()['tapname']\n",
    "\n",
    "print(f'{total_tap_audit} total taps to audit.')"
   ]
  },
  {
   "cell_type": "code",
   "execution_count": 45,
   "metadata": {},
   "outputs": [
    {
     "data": {
      "text/html": [
       "<div>\n",
       "<style scoped>\n",
       "    .dataframe tbody tr th:only-of-type {\n",
       "        vertical-align: middle;\n",
       "    }\n",
       "\n",
       "    .dataframe tbody tr th {\n",
       "        vertical-align: top;\n",
       "    }\n",
       "\n",
       "    .dataframe thead th {\n",
       "        text-align: right;\n",
       "    }\n",
       "</style>\n",
       "<table border=\"1\" class=\"dataframe\">\n",
       "  <thead>\n",
       "    <tr style=\"text-align: right;\">\n",
       "      <th></th>\n",
       "      <th>distributor</th>\n",
       "      <th>serviceable</th>\n",
       "      <th>distactive</th>\n",
       "      <th>locid</th>\n",
       "      <th>city</th>\n",
       "      <th>address1</th>\n",
       "      <th>zip</th>\n",
       "      <th>tapname</th>\n",
       "      <th>bid</th>\n",
       "      <th>zonevalue</th>\n",
       "      <th>area</th>\n",
       "      <th>did</th>\n",
       "      <th>client</th>\n",
       "      <th>clientNumber</th>\n",
       "      <th>recurDescription</th>\n",
       "      <th>quantity</th>\n",
       "      <th>dist_tap_audit</th>\n",
       "      <th>brewery_dist_audit</th>\n",
       "    </tr>\n",
       "  </thead>\n",
       "  <tbody>\n",
       "    <tr>\n",
       "      <th>0</th>\n",
       "      <td>58 Degrees &amp; Holding</td>\n",
       "      <td>True</td>\n",
       "      <td>True</td>\n",
       "      <td>1027267</td>\n",
       "      <td>Sacramento</td>\n",
       "      <td>1217 18th Street</td>\n",
       "      <td>95811</td>\n",
       "      <td>Amador Brewing Ipa</td>\n",
       "      <td>1037280</td>\n",
       "      <td>CA05</td>\n",
       "      <td>NaN</td>\n",
       "      <td>1002166</td>\n",
       "      <td>58 Degrees &amp; Holding Co. (Sacramento/18th)</td>\n",
       "      <td>NaN</td>\n",
       "      <td>Clean and bill all IND lines to acct\\nback doo...</td>\n",
       "      <td>1</td>\n",
       "      <td>x</td>\n",
       "      <td>NaN</td>\n",
       "    </tr>\n",
       "    <tr>\n",
       "      <th>1</th>\n",
       "      <td>58 Degrees &amp; Holding</td>\n",
       "      <td>True</td>\n",
       "      <td>True</td>\n",
       "      <td>1027267</td>\n",
       "      <td>Sacramento</td>\n",
       "      <td>1217 18th Street</td>\n",
       "      <td>95811</td>\n",
       "      <td>Amador Brewing Kolsch</td>\n",
       "      <td>1057032</td>\n",
       "      <td>CA05</td>\n",
       "      <td>NaN</td>\n",
       "      <td>1002166</td>\n",
       "      <td>58 Degrees &amp; Holding Co. (Sacramento/18th)</td>\n",
       "      <td>NaN</td>\n",
       "      <td>Clean and bill all IND lines to acct\\nback doo...</td>\n",
       "      <td>1</td>\n",
       "      <td>x</td>\n",
       "      <td>NaN</td>\n",
       "    </tr>\n",
       "    <tr>\n",
       "      <th>2</th>\n",
       "      <td>58 Degrees &amp; Holding</td>\n",
       "      <td>True</td>\n",
       "      <td>True</td>\n",
       "      <td>1027267</td>\n",
       "      <td>Sacramento</td>\n",
       "      <td>1217 18th Street</td>\n",
       "      <td>95811</td>\n",
       "      <td>Big Stump Brewing Rowan's Red Ale</td>\n",
       "      <td>1209098</td>\n",
       "      <td>CA05</td>\n",
       "      <td>NaN</td>\n",
       "      <td>1002166</td>\n",
       "      <td>58 Degrees &amp; Holding Co. (Sacramento/18th)</td>\n",
       "      <td>NaN</td>\n",
       "      <td>Clean and bill all IND lines to acct\\nback doo...</td>\n",
       "      <td>1</td>\n",
       "      <td>NaN</td>\n",
       "      <td>NaN</td>\n",
       "    </tr>\n",
       "    <tr>\n",
       "      <th>3</th>\n",
       "      <td>58 Degrees &amp; Holding</td>\n",
       "      <td>True</td>\n",
       "      <td>True</td>\n",
       "      <td>1027267</td>\n",
       "      <td>Sacramento</td>\n",
       "      <td>1217 18th Street</td>\n",
       "      <td>95811</td>\n",
       "      <td>Fort Rock Foggy Goggles</td>\n",
       "      <td>1092374</td>\n",
       "      <td>CA05</td>\n",
       "      <td>NaN</td>\n",
       "      <td>1002166</td>\n",
       "      <td>58 Degrees &amp; Holding Co. (Sacramento/18th)</td>\n",
       "      <td>NaN</td>\n",
       "      <td>Clean and bill all IND lines to acct\\nback doo...</td>\n",
       "      <td>1</td>\n",
       "      <td>x</td>\n",
       "      <td>NaN</td>\n",
       "    </tr>\n",
       "    <tr>\n",
       "      <th>4</th>\n",
       "      <td>58 Degrees &amp; Holding</td>\n",
       "      <td>True</td>\n",
       "      <td>True</td>\n",
       "      <td>1027267</td>\n",
       "      <td>Sacramento</td>\n",
       "      <td>1217 18th Street</td>\n",
       "      <td>95811</td>\n",
       "      <td>Matua Sauvignon Blanc</td>\n",
       "      <td>1153068</td>\n",
       "      <td>CA05</td>\n",
       "      <td>NaN</td>\n",
       "      <td>1002166</td>\n",
       "      <td>58 Degrees &amp; Holding Co. (Sacramento/18th)</td>\n",
       "      <td>NaN</td>\n",
       "      <td>Clean and bill all IND lines to acct\\nback doo...</td>\n",
       "      <td>1</td>\n",
       "      <td>NaN</td>\n",
       "      <td>NaN</td>\n",
       "    </tr>\n",
       "  </tbody>\n",
       "</table>\n",
       "</div>"
      ],
      "text/plain": [
       "            distributor  serviceable  distactive    locid        city  \\\n",
       "0  58 Degrees & Holding         True        True  1027267  Sacramento   \n",
       "1  58 Degrees & Holding         True        True  1027267  Sacramento   \n",
       "2  58 Degrees & Holding         True        True  1027267  Sacramento   \n",
       "3  58 Degrees & Holding         True        True  1027267  Sacramento   \n",
       "4  58 Degrees & Holding         True        True  1027267  Sacramento   \n",
       "\n",
       "           address1    zip                            tapname      bid  \\\n",
       "0  1217 18th Street  95811                 Amador Brewing Ipa  1037280   \n",
       "1  1217 18th Street  95811              Amador Brewing Kolsch  1057032   \n",
       "2  1217 18th Street  95811  Big Stump Brewing Rowan's Red Ale  1209098   \n",
       "3  1217 18th Street  95811            Fort Rock Foggy Goggles  1092374   \n",
       "4  1217 18th Street  95811              Matua Sauvignon Blanc  1153068   \n",
       "\n",
       "  zonevalue  area      did                                      client  \\\n",
       "0      CA05   NaN  1002166  58 Degrees & Holding Co. (Sacramento/18th)   \n",
       "1      CA05   NaN  1002166  58 Degrees & Holding Co. (Sacramento/18th)   \n",
       "2      CA05   NaN  1002166  58 Degrees & Holding Co. (Sacramento/18th)   \n",
       "3      CA05   NaN  1002166  58 Degrees & Holding Co. (Sacramento/18th)   \n",
       "4      CA05   NaN  1002166  58 Degrees & Holding Co. (Sacramento/18th)   \n",
       "\n",
       "   clientNumber                                   recurDescription  quantity  \\\n",
       "0           NaN  Clean and bill all IND lines to acct\\nback doo...         1   \n",
       "1           NaN  Clean and bill all IND lines to acct\\nback doo...         1   \n",
       "2           NaN  Clean and bill all IND lines to acct\\nback doo...         1   \n",
       "3           NaN  Clean and bill all IND lines to acct\\nback doo...         1   \n",
       "4           NaN  Clean and bill all IND lines to acct\\nback doo...         1   \n",
       "\n",
       "  dist_tap_audit brewery_dist_audit  \n",
       "0              x                NaN  \n",
       "1              x                NaN  \n",
       "2            NaN                NaN  \n",
       "3              x                NaN  \n",
       "4            NaN                NaN  "
      ]
     },
     "execution_count": 45,
     "metadata": {},
     "output_type": "execute_result"
    }
   ],
   "source": [
    "market_system_df.head()"
   ]
  },
  {
   "cell_type": "markdown",
   "metadata": {},
   "source": [
    "# FLAGS 3 & 4\n",
    "\n",
    "### Check if CA01 / CA04 accounts are zoned correctly\n",
    "\n",
    "* Import geojson polygon of zones CA01 and CA04\n",
    "* Check if zone CA01's account coordinates lie within the polygon of CA04\n",
    "* Check if zone CA04's account coordinates lie within the polygon of CA01\n",
    "* If the account's coordinates lie within incorrect polygon, flag the account.\n",
    "\n",
    "\n",
    "Zone CA01 and CA04 are both in San Jose and are divided by I-880. New accounts are often zoned incorrectly and billed to incorrect distributors. By checking against a polygonal representation of the zone, we can progmatically flag accounts that are zoned incorrectly."
   ]
  },
  {
   "cell_type": "code",
   "execution_count": 46,
   "metadata": {},
   "outputs": [
    {
     "ename": "ImportError",
     "evalue": "cannot import name 'CRS' from 'pyproj' (C:\\Users\\Terra\\Anaconda3\\lib\\site-packages\\pyproj\\__init__.py)",
     "output_type": "error",
     "traceback": [
      "\u001b[1;31m---------------------------------------------------------------------------\u001b[0m",
      "\u001b[1;31mImportError\u001b[0m                               Traceback (most recent call last)",
      "\u001b[1;32m<ipython-input-46-a4c9e05fef18>\u001b[0m in \u001b[0;36m<module>\u001b[1;34m\u001b[0m\n\u001b[0;32m      1\u001b[0m \u001b[1;32mimport\u001b[0m \u001b[0mmatplotlib\u001b[0m\u001b[1;33m.\u001b[0m\u001b[0mpyplot\u001b[0m \u001b[1;32mas\u001b[0m \u001b[0mplt\u001b[0m\u001b[1;33m\u001b[0m\u001b[1;33m\u001b[0m\u001b[0m\n\u001b[1;32m----> 2\u001b[1;33m \u001b[1;32mimport\u001b[0m \u001b[0mgeopandas\u001b[0m \u001b[1;32mas\u001b[0m \u001b[0mgpd\u001b[0m\u001b[1;33m\u001b[0m\u001b[1;33m\u001b[0m\u001b[0m\n\u001b[0m\u001b[0;32m      3\u001b[0m \u001b[1;32mfrom\u001b[0m \u001b[0mgeopandas\u001b[0m\u001b[1;33m.\u001b[0m\u001b[0mgeoseries\u001b[0m \u001b[1;32mimport\u001b[0m \u001b[1;33m*\u001b[0m\u001b[1;33m\u001b[0m\u001b[1;33m\u001b[0m\u001b[0m\n\u001b[0;32m      4\u001b[0m \u001b[1;32mfrom\u001b[0m \u001b[0mshapely\u001b[0m\u001b[1;33m.\u001b[0m\u001b[0mgeometry\u001b[0m \u001b[1;32mimport\u001b[0m \u001b[0mPoint\u001b[0m\u001b[1;33m,\u001b[0m \u001b[0mPolygon\u001b[0m\u001b[1;33m\u001b[0m\u001b[1;33m\u001b[0m\u001b[0m\n\u001b[0;32m      5\u001b[0m \u001b[1;33m\u001b[0m\u001b[0m\n",
      "\u001b[1;32m~\\Anaconda3\\lib\\site-packages\\geopandas\\__init__.py\u001b[0m in \u001b[0;36m<module>\u001b[1;34m\u001b[0m\n\u001b[1;32m----> 1\u001b[1;33m \u001b[1;32mfrom\u001b[0m \u001b[0mgeopandas\u001b[0m\u001b[1;33m.\u001b[0m\u001b[0mgeoseries\u001b[0m \u001b[1;32mimport\u001b[0m \u001b[0mGeoSeries\u001b[0m  \u001b[1;31m# noqa\u001b[0m\u001b[1;33m\u001b[0m\u001b[1;33m\u001b[0m\u001b[0m\n\u001b[0m\u001b[0;32m      2\u001b[0m \u001b[1;32mfrom\u001b[0m \u001b[0mgeopandas\u001b[0m\u001b[1;33m.\u001b[0m\u001b[0mgeodataframe\u001b[0m \u001b[1;32mimport\u001b[0m \u001b[0mGeoDataFrame\u001b[0m  \u001b[1;31m# noqa\u001b[0m\u001b[1;33m\u001b[0m\u001b[1;33m\u001b[0m\u001b[0m\n\u001b[0;32m      3\u001b[0m \u001b[1;32mfrom\u001b[0m \u001b[0mgeopandas\u001b[0m\u001b[1;33m.\u001b[0m\u001b[0marray\u001b[0m \u001b[1;32mimport\u001b[0m \u001b[0m_points_from_xy\u001b[0m \u001b[1;32mas\u001b[0m \u001b[0mpoints_from_xy\u001b[0m  \u001b[1;31m# noqa\u001b[0m\u001b[1;33m\u001b[0m\u001b[1;33m\u001b[0m\u001b[0m\n\u001b[0;32m      4\u001b[0m \u001b[1;33m\u001b[0m\u001b[0m\n\u001b[0;32m      5\u001b[0m \u001b[1;32mfrom\u001b[0m \u001b[0mgeopandas\u001b[0m\u001b[1;33m.\u001b[0m\u001b[0mio\u001b[0m\u001b[1;33m.\u001b[0m\u001b[0mfile\u001b[0m \u001b[1;32mimport\u001b[0m \u001b[0mread_file\u001b[0m  \u001b[1;31m# noqa\u001b[0m\u001b[1;33m\u001b[0m\u001b[1;33m\u001b[0m\u001b[0m\n",
      "\u001b[1;32m~\\Anaconda3\\lib\\site-packages\\geopandas\\geoseries.py\u001b[0m in \u001b[0;36m<module>\u001b[1;34m\u001b[0m\n\u001b[0;32m      7\u001b[0m \u001b[1;32mfrom\u001b[0m \u001b[0mpandas\u001b[0m\u001b[1;33m.\u001b[0m\u001b[0mcore\u001b[0m\u001b[1;33m.\u001b[0m\u001b[0minternals\u001b[0m \u001b[1;32mimport\u001b[0m \u001b[0mSingleBlockManager\u001b[0m\u001b[1;33m\u001b[0m\u001b[1;33m\u001b[0m\u001b[0m\n\u001b[0;32m      8\u001b[0m \u001b[1;33m\u001b[0m\u001b[0m\n\u001b[1;32m----> 9\u001b[1;33m \u001b[1;32mfrom\u001b[0m \u001b[0mpyproj\u001b[0m \u001b[1;32mimport\u001b[0m \u001b[0mCRS\u001b[0m\u001b[1;33m,\u001b[0m \u001b[0mTransformer\u001b[0m\u001b[1;33m\u001b[0m\u001b[1;33m\u001b[0m\u001b[0m\n\u001b[0m\u001b[0;32m     10\u001b[0m \u001b[1;32mfrom\u001b[0m \u001b[0mshapely\u001b[0m\u001b[1;33m.\u001b[0m\u001b[0mgeometry\u001b[0m\u001b[1;33m.\u001b[0m\u001b[0mbase\u001b[0m \u001b[1;32mimport\u001b[0m \u001b[0mBaseGeometry\u001b[0m\u001b[1;33m\u001b[0m\u001b[1;33m\u001b[0m\u001b[0m\n\u001b[0;32m     11\u001b[0m \u001b[1;32mfrom\u001b[0m \u001b[0mshapely\u001b[0m\u001b[1;33m.\u001b[0m\u001b[0mops\u001b[0m \u001b[1;32mimport\u001b[0m \u001b[0mtransform\u001b[0m\u001b[1;33m\u001b[0m\u001b[1;33m\u001b[0m\u001b[0m\n",
      "\u001b[1;31mImportError\u001b[0m: cannot import name 'CRS' from 'pyproj' (C:\\Users\\Terra\\Anaconda3\\lib\\site-packages\\pyproj\\__init__.py)"
     ]
    }
   ],
   "source": [
    "import matplotlib.pyplot as plt\n",
    "import geopandas as gpd\n",
    "from geopandas.geoseries import *\n",
    "from shapely.geometry import Point, Polygon\n",
    "\n",
    "%matplotlib inline"
   ]
  },
  {
   "cell_type": "code",
   "execution_count": null,
   "metadata": {},
   "outputs": [],
   "source": [
    "plt.rcParams['figure.figsize'] = (20,10)"
   ]
  },
  {
   "cell_type": "code",
   "execution_count": null,
   "metadata": {},
   "outputs": [],
   "source": [
    "ca04_poly = gpd.read_file('data/ca04.geojson')\n",
    "ca01_poly = gpd.read_file('data/ca01.geojson')\n",
    "\n"
   ]
  },
  {
   "cell_type": "code",
   "execution_count": null,
   "metadata": {},
   "outputs": [],
   "source": [
    "m = Basemap(width=12000000,height=9000000,projection='lcc',\n",
    "            resolution='c',lat_1=45.,lat_2=55,lat_0=50,lon_0=-107.)\n",
    "ax1 = ca04_poly.plot(color='purple', edgecolor = 'k', linewidth = 2)\n",
    "ax2 = ca01_poly.plot(color='pink', edgecolor = 'k', linewidth = 2, ax=ax1)"
   ]
  },
  {
   "cell_type": "code",
   "execution_count": null,
   "metadata": {},
   "outputs": [],
   "source": [
    "locations = pd.read_excel('data/BAY_Send_Orders.xlsx')"
   ]
  },
  {
   "cell_type": "code",
   "execution_count": null,
   "metadata": {},
   "outputs": [],
   "source": [
    "ca04 = locations[locations[' Service Location - Contact - First Name'] == 'CA04']  \n",
    "ca01 = locations[locations[' Service Location - Contact - First Name'] == 'CA01']"
   ]
  },
  {
   "cell_type": "code",
   "execution_count": null,
   "metadata": {},
   "outputs": [],
   "source": [
    "ca04 = ca04[[' Service Location - Description',' Latitude', ' Longitude']]\n",
    "ca01 = ca01[[' Service Location - Description',' Latitude', ' Longitude']]"
   ]
  },
  {
   "cell_type": "code",
   "execution_count": null,
   "metadata": {},
   "outputs": [],
   "source": [
    "\n",
    "ax1 = ca04_poly.plot(color='None', edgecolor = 'k', linewidth = 2, label=\"Zone CA04 Shape\")\n",
    "ax2 = ca01_poly.plot(color='None', edgecolor = 'k', linewidth = 2, ax=ax1)\n",
    "ax3 = ca04.plot(kind='scatter', x=' Longitude', y = ' Latitude', color = 'g', ax=ax1, label=\"Zone CA04 Account\", alpha = 0.8)\n",
    "ax4 = ca01.plot(kind='scatter', x=' Longitude', y = ' Latitude', color = 'b', ax=ax1, label =\"Zone CA01 Account\", alpha = 0.8)\n",
    "plt.savefig('CA04-CA01 Zone Errors')"
   ]
  },
  {
   "cell_type": "code",
   "execution_count": null,
   "metadata": {},
   "outputs": [],
   "source": [
    "polygon4 = pd.read_json('data/ca04.geojson')\n",
    "polygon4 = np.array(polygon4['features'][0]['geometry']['coordinates'][0])\n",
    "\n",
    "polygon1 = pd.read_json('data/ca01.geojson')\n",
    "polygon1 = np.array(polygon1['features'][0]['geometry']['coordinates'][0])"
   ]
  },
  {
   "cell_type": "code",
   "execution_count": null,
   "metadata": {},
   "outputs": [],
   "source": [
    "poly4 = Polygon(polygon4)\n",
    "poly1 = Polygon(polygon1)"
   ]
  },
  {
   "cell_type": "code",
   "execution_count": null,
   "metadata": {},
   "outputs": [],
   "source": [
    "for index,row in ca01.iterrows():\n",
    "    point = Point(row[' Longitude'], row[' Latitude'])\n",
    "    if point.within(poly4):\n",
    "        ca01.loc[index, 'ca01_audit'] = 'x'\n",
    "\n",
    "for index,row in ca04.iterrows():\n",
    "    point = Point(row[' Longitude'], row[' Latitude'])\n",
    "    if point.within(poly1):\n",
    "        ca04.loc[index, 'ca04_audit'] = 'x'\n"
   ]
  },
  {
   "cell_type": "code",
   "execution_count": null,
   "metadata": {},
   "outputs": [],
   "source": [
    "ca01errors = ca01[ca01['ca01_audit'] == 'x']\n",
    "ca01errors = ca01errors[[' Service Location - Description', 'ca01_audit']]\n",
    "ca01errors.rename(columns = {' Service Location - Description':'client'}, inplace = True) \n",
    "ca01errors.drop_duplicates(inplace=True)"
   ]
  },
  {
   "cell_type": "code",
   "execution_count": null,
   "metadata": {},
   "outputs": [],
   "source": [
    "ca04errors = ca04[ca04['ca04_audit'] == 'x']\n",
    "ca04errors = ca04errors[[' Service Location - Description', 'ca04_audit']]\n",
    "ca04errors.rename(columns = {' Service Location - Description':'client'}, inplace = True) \n",
    "ca04errors.drop_duplicates(inplace=True)"
   ]
  },
  {
   "cell_type": "code",
   "execution_count": null,
   "metadata": {},
   "outputs": [],
   "source": [
    "market_system_df = pd.merge(market_system_df, ca01errors, how='left', on='client')\n",
    "market_system_df = pd.merge(market_system_df, ca04errors, how='left', on='client')"
   ]
  },
  {
   "cell_type": "code",
   "execution_count": null,
   "metadata": {},
   "outputs": [],
   "source": [
    "market_system_df[(market_system_df['ca01_audit'] == 'x') | (market_system_df['ca04_audit'] == 'x')]"
   ]
  },
  {
   "cell_type": "code",
   "execution_count": null,
   "metadata": {},
   "outputs": [],
   "source": [
    "ca04errors"
   ]
  },
  {
   "cell_type": "code",
   "execution_count": null,
   "metadata": {},
   "outputs": [],
   "source": [
    "result"
   ]
  },
  {
   "cell_type": "code",
   "execution_count": null,
   "metadata": {},
   "outputs": [],
   "source": []
  }
 ],
 "metadata": {
  "kernelspec": {
   "display_name": "Python 3",
   "language": "python",
   "name": "python3"
  },
  "language_info": {
   "codemirror_mode": {
    "name": "ipython",
    "version": 3
   },
   "file_extension": ".py",
   "mimetype": "text/x-python",
   "name": "python",
   "nbconvert_exporter": "python",
   "pygments_lexer": "ipython3",
   "version": "3.7.3"
  }
 },
 "nbformat": 4,
 "nbformat_minor": 2
}
